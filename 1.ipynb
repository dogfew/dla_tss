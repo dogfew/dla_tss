{
 "cells": [
  {
   "cell_type": "code",
   "execution_count": 2,
   "id": "cb43c490-8be6-44a9-959c-0c8ae5d3b7e4",
   "metadata": {
    "tags": []
   },
   "outputs": [
    {
     "data": {
      "text/plain": [
       "<All keys matched successfully>"
      ]
     },
     "execution_count": 2,
     "metadata": {},
     "output_type": "execute_result"
    }
   ],
   "source": [
    "import torch\n",
    "from src.model.spex_plus import SpExPlus\n",
    "from src.datasets.custom_dir_audio_dataset import CustomDirAudioDataset\n",
    "from src.metric.utils import si_sdr\n",
    "import pesq\n",
    "model_path = \"saved/models/default_config/1108_065537/checkpoint-epoch80.pth\"\n",
    "dataset = CustomDirAudioDataset(\"/home/vladimir/PycharmProjects/TTS/mixtures_data/test_clean\",None, None)\n",
    "model = SpExPlus(num_speakers=96)\n",
    "model.load_state_dict(torch.load(model_path, map_location=torch.device('cpu'))['state_dict'])"
   ]
  },
  {
   "cell_type": "code",
   "execution_count": 3,
   "id": "2f2ab38f-557b-4024-afa2-8440dd4600bf",
   "metadata": {
    "tags": []
   },
   "outputs": [],
   "source": [
    "class NewDataset(CustomDirAudioDataset):\n",
    "    def __getitem__(self, idx):\n",
    "        super_res = super().__getitem__(idx)\n",
    "        new_d = dict()\n",
    "        for k, v in super_res.items():\n",
    "            if hasattr(v, 'shape'):\n",
    "                new_d[f'{k}_len'] = torch.tensor([v.shape[1]])\n",
    "                \n",
    "        super_res.update(new_d)\n",
    "        return super_res\n",
    "dataset = NewDataset(\"/home/vladimir/PycharmProjects/TTS/mixtures_data/test_clean/61\",None, None)"
   ]
  },
  {
   "cell_type": "code",
   "execution_count": 13,
   "id": "140a8f77-1bfa-4640-a403-e09801250821",
   "metadata": {
    "tags": []
   },
   "outputs": [
    {
     "ename": "NameError",
     "evalue": "name 'pad_sequence' is not defined",
     "output_type": "error",
     "traceback": [
      "\u001b[0;31m---------------------------------------------------------------------------\u001b[0m",
      "\u001b[0;31mNameError\u001b[0m                                 Traceback (most recent call last)",
      "Cell \u001b[0;32mIn[13], line 1\u001b[0m\n\u001b[0;32m----> 1\u001b[0m \u001b[43mcollate_fn\u001b[49m\u001b[43m(\u001b[49m\u001b[43mdataset\u001b[49m\u001b[43m)\u001b[49m\n",
      "Cell \u001b[0;32mIn[10], line 19\u001b[0m, in \u001b[0;36mcollate_fn\u001b[0;34m(dataset_items)\u001b[0m\n\u001b[1;32m     15\u001b[0m \u001b[38;5;28;01mif\u001b[39;00m key \u001b[38;5;129;01min\u001b[39;00m audio_keys \u001b[38;5;129;01mor\u001b[39;00m key \u001b[38;5;129;01min\u001b[39;00m spectrogram_keys:\n\u001b[1;32m     16\u001b[0m     result_batch[\u001b[38;5;124mf\u001b[39m\u001b[38;5;124m\"\u001b[39m\u001b[38;5;132;01m{\u001b[39;00mkey\u001b[38;5;132;01m}\u001b[39;00m\u001b[38;5;124m_len\u001b[39m\u001b[38;5;124m\"\u001b[39m] \u001b[38;5;241m=\u001b[39m torch\u001b[38;5;241m.\u001b[39mtensor(\n\u001b[1;32m     17\u001b[0m         data\u001b[38;5;241m=\u001b[39m[item\u001b[38;5;241m.\u001b[39mshape[\u001b[38;5;241m-\u001b[39m\u001b[38;5;241m1\u001b[39m] \u001b[38;5;28;01mfor\u001b[39;00m item \u001b[38;5;129;01min\u001b[39;00m items]\n\u001b[1;32m     18\u001b[0m     )\n\u001b[0;32m---> 19\u001b[0m     result_batch[key] \u001b[38;5;241m=\u001b[39m \u001b[43mpad_sequence\u001b[49m(\n\u001b[1;32m     20\u001b[0m         sequences\u001b[38;5;241m=\u001b[39m[item\u001b[38;5;241m.\u001b[39mT \u001b[38;5;28;01mfor\u001b[39;00m item \u001b[38;5;129;01min\u001b[39;00m items],\n\u001b[1;32m     21\u001b[0m         batch_first\u001b[38;5;241m=\u001b[39m\u001b[38;5;28;01mTrue\u001b[39;00m,\n\u001b[1;32m     22\u001b[0m     )\u001b[38;5;241m.\u001b[39msqueeze(dim\u001b[38;5;241m=\u001b[39m\u001b[38;5;241m2\u001b[39m)\n\u001b[1;32m     23\u001b[0m \u001b[38;5;28;01melif\u001b[39;00m key \u001b[38;5;129;01min\u001b[39;00m phase_keys:\n\u001b[1;32m     24\u001b[0m     result_batch[key] \u001b[38;5;241m=\u001b[39m pad_sequence(\n\u001b[1;32m     25\u001b[0m         sequences\u001b[38;5;241m=\u001b[39m[torch\u001b[38;5;241m.\u001b[39msqueeze(item, dim\u001b[38;5;241m=\u001b[39m\u001b[38;5;241m0\u001b[39m)\u001b[38;5;241m.\u001b[39mt() \u001b[38;5;28;01mfor\u001b[39;00m item \u001b[38;5;129;01min\u001b[39;00m items],\n\u001b[1;32m     26\u001b[0m         batch_first\u001b[38;5;241m=\u001b[39m\u001b[38;5;28;01mTrue\u001b[39;00m,\n\u001b[1;32m     27\u001b[0m     )\n",
      "\u001b[0;31mNameError\u001b[0m: name 'pad_sequence' is not defined"
     ]
    }
   ],
   "source": [
    "from torc"
   ]
  },
  {
   "cell_type": "code",
   "execution_count": 5,
   "id": "0ec25611-ed05-4093-9602-ae993d826f81",
   "metadata": {
    "tags": []
   },
   "outputs": [
    {
     "data": {
      "text/plain": [
       "tensor([[-0.5124, -0.2580, -0.1654,  ..., -0.4899, -0.5053, -0.4778]],\n",
       "       grad_fn=<SqueezeBackward1>)"
      ]
     },
     "execution_count": 5,
     "metadata": {},
     "output_type": "execute_result"
    }
   ],
   "source": [
    "model(**dataset[0])['s1']"
   ]
  },
  {
   "cell_type": "code",
   "execution_count": null,
   "id": "819a13be-74a5-4afa-84ac-1371cb2286bd",
   "metadata": {},
   "outputs": [],
   "source": [
    "model(**dataset[0])['s1']"
   ]
  },
  {
   "cell_type": "code",
   "execution_count": 39,
   "id": "63dd3541-3fde-424f-95b5-2c29666d9546",
   "metadata": {
    "tags": []
   },
   "outputs": [],
   "source": [
    "mix_audio = obj['mix_audio']\n",
    "frame_size = 3 * 16000 \n",
    "padded_audio = torch.nn.functional.pad(mix_audio, (0, frame_size - mix_audio.size(1) % frame_size))\n",
    "mix_audio = padded_audio.reshape(-1, frame_size)"
   ]
  },
  {
   "cell_type": "code",
   "execution_count": 68,
   "id": "fa285c01-15db-4f60-898a-a609b5b0e675",
   "metadata": {
    "tags": []
   },
   "outputs": [],
   "source": [
    "target_audio = obj['target_audio']\n",
    "padded_audio = torch.nn.functional.pad(target_audio, (0, frame_size - target_audio.size(1) % frame_size))\n",
    "target_audio = padded_audio.reshape(-1, frame_size)"
   ]
  },
  {
   "cell_type": "code",
   "execution_count": 53,
   "id": "b5c0825b-c2c1-4845-96fb-3c8577955218",
   "metadata": {
    "tags": []
   },
   "outputs": [],
   "source": [
    "reference_audio = obj['reference_audio'].repeat(len(mix_audio), 1)\n",
    "reference_audio_len = torch.tensor([reference_audio.shape[1]]).repeat(len(mix_audio), 1).flatten()"
   ]
  },
  {
   "cell_type": "code",
   "execution_count": 54,
   "id": "e251c6cd-1a6b-430b-8826-648ad3aafd5e",
   "metadata": {
    "tags": []
   },
   "outputs": [],
   "source": [
    "pred = model(mix_audio, reference_audio, reference_audio_len)['s1'].detach().numpy()\n",
    "target = target_audio.detach().numpy()"
   ]
  },
  {
   "cell_type": "code",
   "execution_count": 55,
   "id": "08111893-1b3e-4357-a634-32a71c4cff0d",
   "metadata": {
    "tags": []
   },
   "outputs": [
    {
     "data": {
      "text/plain": [
       "1.1306016445159912"
      ]
     },
     "execution_count": 55,
     "metadata": {},
     "output_type": "execute_result"
    }
   ],
   "source": [
    "pesq.pesq(16_000, pred.flatten(), target.flatten())"
   ]
  },
  {
   "cell_type": "code",
   "execution_count": 78,
   "id": "d5d71e49-b5e6-402f-ac59-4fcb60a56aa6",
   "metadata": {
    "tags": []
   },
   "outputs": [],
   "source": [
    "audio_len = obj['target_audio_len'].item()"
   ]
  },
  {
   "cell_type": "code",
   "execution_count": 75,
   "id": "6b656d7a-a827-4c41-b313-88485ff85a83",
   "metadata": {
    "tags": []
   },
   "outputs": [],
   "source": [
    "import numpy as np\n",
    "\n",
    "def si_sdr(est, target):\n",
    "    alpha = np.sum(target * est) / np.linalg.norm(target) ** 2\n",
    "    return 20 * np.log10(\n",
    "        np.linalg.norm(alpha * target)\n",
    "        / (np.linalg.norm(alpha * target - est) + 1e-6)\n",
    "        + 1e-6\n",
    "    )"
   ]
  },
  {
   "cell_type": "code",
   "execution_count": 81,
   "id": "9d129601-6741-4b4b-8929-5805e0c723a7",
   "metadata": {
    "tags": []
   },
   "outputs": [
    {
     "data": {
      "text/plain": [
       "1.661399735589872"
      ]
     },
     "execution_count": 81,
     "metadata": {},
     "output_type": "execute_result"
    }
   ],
   "source": [
    "si_sdr(pred.flatten()[:audio_len // 2], target.flatten()[:audio_len // 2])"
   ]
  },
  {
   "cell_type": "code",
   "execution_count": 82,
   "id": "3fb085dd-61d0-4dc2-9d5e-8ec745e70fca",
   "metadata": {
    "tags": []
   },
   "outputs": [
    {
     "data": {
      "text/plain": [
       "-5.556198851344872"
      ]
     },
     "execution_count": 82,
     "metadata": {},
     "output_type": "execute_result"
    }
   ],
   "source": [
    "si_sdr(pred.flatten()[audio_len // 2:], target.flatten()[audio_len // 2:])"
   ]
  }
 ],
 "metadata": {
  "kernelspec": {
   "display_name": "Python 3 (ipykernel)",
   "language": "python",
   "name": "python3"
  },
  "language_info": {
   "codemirror_mode": {
    "name": "ipython",
    "version": 3
   },
   "file_extension": ".py",
   "mimetype": "text/x-python",
   "name": "python",
   "nbconvert_exporter": "python",
   "pygments_lexer": "ipython3",
   "version": "3.11.5"
  }
 },
 "nbformat": 4,
 "nbformat_minor": 5
}
